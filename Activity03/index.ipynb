{
 "cells": [
  {
   "cell_type": "markdown",
   "metadata": {},
   "source": [
    "### 3 versions of this interactive notebook:\n",
    "<a href=\"Hummingbird Migration by Latitude.ipynb\">Version with experimentation and lots of messy code and comments</a><br/><br/>\n",
    "<a href=\"Hummingbird Migration Interactive Jupyter Notebook.ipynb\">Version with slightly cleaner code</a><br/><br/>\n",
    "<a href=\"Hummingbird Migration Interactive Jupyter Notebook - Code Hidden.ipynb\">Version with code hidden</a>\n"
   ]
  },
  {
   "cell_type": "code",
   "execution_count": null,
   "metadata": {
    "collapsed": true
   },
   "outputs": [],
   "source": []
  }
 ],
 "metadata": {
  "kernelspec": {
   "display_name": "Python 3",
   "language": "python",
   "name": "python3"
  },
  "language_info": {
   "codemirror_mode": {
    "name": "ipython",
    "version": 3
   },
   "file_extension": ".py",
   "mimetype": "text/x-python",
   "name": "python",
   "nbconvert_exporter": "python",
   "pygments_lexer": "ipython3",
   "version": "3.5.1"
  }
 },
 "nbformat": 4,
 "nbformat_minor": 0
}
