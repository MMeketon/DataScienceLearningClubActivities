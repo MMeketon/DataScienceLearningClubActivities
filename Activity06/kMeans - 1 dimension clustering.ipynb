{
 "cells": [
  {
   "cell_type": "code",
   "execution_count": 50,
   "metadata": {
    "collapsed": false
   },
   "outputs": [
    {
     "name": "stdout",
     "output_type": "stream",
     "text": [
      "     0  counts       centroids\n",
      "0    0    3279       51.843550\n",
      "1    1       1   900000.000000\n",
      "2    2       3   250000.000000\n",
      "3    3      12    50052.166667\n",
      "4    4       1   500000.000000\n",
      "5    5       3  1000000.000000\n",
      "6    6      12   100000.000000\n",
      "7    7      21    25013.380952\n",
      "8    8      32     6282.656250\n",
      "9    9       1    68000.000000\n",
      "10  10      77     2500.298701\n",
      "11  11      10    12792.000000\n",
      "12  12       1    37500.000000\n",
      "13  13     445      997.716854\n",
      "14  14       1   975000.000000\n",
      "15  15       6    75136.166667\n",
      "16  16       1   271000.000000\n",
      "17  17       8     9193.875000\n",
      "18  18       8    20177.500000\n",
      "19  19      69     3997.840580\n",
      "20  20     645      521.848062\n",
      "21  21      86     5050.941860\n",
      "22  22       5    30000.000000\n",
      "23  23       1    60000.000000\n",
      "24  24      71     1747.633803\n",
      "25  25       1    44000.000000\n",
      "26  26       4    17203.500000\n",
      "27  27      17     7926.647059\n",
      "28  28    1010      218.849505\n",
      "29  29       1    56000.000000\n",
      "30  30       2    40250.000000\n",
      "31  31       7    15214.285714\n",
      "32  32    2994      112.616900\n",
      "33  33       4    11462.500000\n",
      "34  34       1    35000.000000\n",
      "35  35      23    10025.173913\n",
      "36  36     108     2249.462963\n",
      "37  37     394      337.104061\n",
      "38  38      18     3402.944444\n",
      "39  39      91     1995.329670\n",
      "40  40      37     2953.324324\n",
      "41  41     102      754.960784\n",
      "42  42     113     1162.150442\n",
      "43  43    3701       22.003242\n",
      "44  44       1    52000.000000\n",
      "45  45      76     1494.473684\n",
      "46  46       1    23000.000000\n",
      "47  47       1    26750.000000\n",
      "48  48      11     4430.636364\n",
      "49  49       1    42000.000000\n"
     ]
    }
   ],
   "source": [
    "import pandas as pd\n",
    "import numpy as np\n",
    "\n",
    "#read in data. it's comma-separated with no column names.\n",
    "df = pd.read_csv('giftpledgesizes.csv', sep=',', warn_bad_lines=True, low_memory=False)\n",
    "gifts = df.ix[:,0]\n",
    "#sklearn error said to reshape the array this way if only one feature\n",
    "gifts = gifts.reshape(-1, 1)\n",
    "#print(gifts)\n",
    "\n",
    "#create/fit the clusters\n",
    "from sklearn.cluster import KMeans\n",
    "km = KMeans(init='k-means++', n_clusters=50)\n",
    "km.fit(gifts, y=None)\n",
    "#see how many are in each bucket\n",
    "np.set_printoptions(precision=0)\n",
    "np.set_printoptions(suppress=True)\n",
    "kmlabels, kmlabelcounts = np.unique(km.labels_, return_counts=True)\n",
    "kminertia = km.inertia_\n",
    "df_clusters = pd.DataFrame(kmlabels)\n",
    "df_clusters['counts'] = kmlabelcounts\n",
    "df_clusters['centroids'] = km.cluster_centers_\n",
    "#print(kmlabels)\n",
    "#print(kmlabelcounts)\n",
    "#print(km.cluster_centers_)\n",
    "print(df_clusters)"
   ]
  },
  {
   "cell_type": "code",
   "execution_count": 53,
   "metadata": {
    "collapsed": false
   },
   "outputs": [
    {
     "name": "stdout",
     "output_type": "stream",
     "text": [
      "     0  counts    centroids\n",
      "43  43    3701    22.003242\n",
      "0    0    3279    51.843550\n",
      "32  32    2994   112.616900\n",
      "28  28    1010   218.849505\n",
      "37  37     394   337.104061\n",
      "20  20     645   521.848062\n",
      "41  41     102   754.960784\n",
      "13  13     445   997.716854\n",
      "42  42     113  1162.150442\n",
      "36  36     108  2249.462963\n",
      "1580.54032383\n"
     ]
    }
   ],
   "source": [
    "#kmclustercenters = np.sort(km.cluster_centers_, axis=0)\n",
    "#print(kmclustercenters)\n",
    "\n",
    "#print sorted by dollar size\n",
    "print(df_clusters[df_clusters['counts'] > 100].sort_values('centroids'))\n",
    "\n",
    "print(kminertia / gifts.size )"
   ]
  },
  {
   "cell_type": "code",
   "execution_count": null,
   "metadata": {
    "collapsed": true
   },
   "outputs": [],
   "source": []
  }
 ],
 "metadata": {
  "kernelspec": {
   "display_name": "Python 3",
   "language": "python",
   "name": "python3"
  },
  "language_info": {
   "codemirror_mode": {
    "name": "ipython",
    "version": 3
   },
   "file_extension": ".py",
   "mimetype": "text/x-python",
   "name": "python",
   "nbconvert_exporter": "python",
   "pygments_lexer": "ipython3",
   "version": "3.5.1"
  }
 },
 "nbformat": 4,
 "nbformat_minor": 0
}
